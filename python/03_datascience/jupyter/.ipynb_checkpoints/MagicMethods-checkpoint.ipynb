{
 "cells": [
  {
   "cell_type": "code",
   "execution_count": 40,
   "metadata": {
    "scrolled": true
   },
   "outputs": [
    {
     "name": "stdout",
     "output_type": "stream",
     "text": [
      "Value contains spaces. Truncating to first space.\n",
      "False\n",
      "True\n",
      "True\n",
      "False\n",
      "False\n",
      "Rodrigo\n",
      "False\n",
      "foobar\n",
      "True\n",
      "<class '__main__.Word'>\n",
      "Repre of the class\n",
      "foo\n"
     ]
    },
    {
     "ename": "AttributeError",
     "evalue": "'Word' object has no attribute 'word'",
     "output_type": "error",
     "traceback": [
      "\u001b[1;31m---------------------------------------------------------------------------\u001b[0m",
      "\u001b[1;31mAttributeError\u001b[0m                            Traceback (most recent call last)",
      "\u001b[1;32m<ipython-input-40-c83e09de32a7>\u001b[0m in \u001b[0;36m<module>\u001b[1;34m\u001b[0m\n\u001b[0;32m     40\u001b[0m \u001b[0mprint\u001b[0m\u001b[1;33m(\u001b[0m\u001b[0mrepr\u001b[0m\u001b[1;33m(\u001b[0m\u001b[0ma\u001b[0m\u001b[1;33m)\u001b[0m\u001b[1;33m)\u001b[0m\u001b[1;33m\u001b[0m\u001b[1;33m\u001b[0m\u001b[0m\n\u001b[0;32m     41\u001b[0m \u001b[0mprint\u001b[0m\u001b[1;33m(\u001b[0m\u001b[0mstr\u001b[0m\u001b[1;33m(\u001b[0m\u001b[0ma\u001b[0m\u001b[1;33m)\u001b[0m\u001b[1;33m)\u001b[0m\u001b[1;33m\u001b[0m\u001b[1;33m\u001b[0m\u001b[0m\n\u001b[1;32m---> 42\u001b[1;33m \u001b[0mprint\u001b[0m\u001b[1;33m(\u001b[0m\u001b[0ma\u001b[0m\u001b[1;33m.\u001b[0m\u001b[0mword\u001b[0m\u001b[1;33m)\u001b[0m\u001b[1;33m\u001b[0m\u001b[1;33m\u001b[0m\u001b[0m\n\u001b[0m",
      "\u001b[1;31mAttributeError\u001b[0m: 'Word' object has no attribute 'word'"
     ]
    }
   ],
   "source": [
    "# https://rszalski.github.io/magicmethods/\n",
    "\n",
    "class Word(str):\n",
    "    '''Class for words, defining comparison based on word length.'''\n",
    "\n",
    "    def __new__(self, word):\n",
    "        # Note that we have to use __new__. This is because str is an immutable\n",
    "        # type, so we have to initialize it early (at creation)\n",
    "        if ' ' in word:\n",
    "            print(\"Value contains spaces. Truncating to first space.\")\n",
    "            word = word[:word.index(' ')] # Word is now all chars before first space\n",
    "        return str.__new__(self, word)\n",
    "\n",
    "    def __gt__(self, other):\n",
    "        return len(self) > len(other)\n",
    "    def __lt__(self, other):\n",
    "        return len(self) < len(other)\n",
    "    def __ge__(self, other):\n",
    "        return len(self) >= len(other)\n",
    "    def __le__(self, other):\n",
    "        return len(self) <= len(other)\n",
    "    def __repr__(self):\n",
    "        return \"Repre of the class\"\n",
    "\n",
    "a = Word('foo')\n",
    "b = Word('bar')\n",
    "c = Word('Rodrigo Echaide')\n",
    "print(a == b)\n",
    "print(a >= b)\n",
    "print(a <= b)\n",
    "print(a > b)\n",
    "print(a < b)\n",
    "print(c)\n",
    "# print(a < 3) -> Error TypeError: object of type 'int' has no len()\n",
    "print (a < str(3))\n",
    "print(a + b)\n",
    "# print(a - b) -> TypeError: unsupported operand type(s) for -: 'Word' and 'Word'\n",
    "print('test' >= a )\n",
    "print(type(a))\n",
    "print(repr(a))\n",
    "print(str(a))\n",
    "print(a.word)"
   ]
  },
  {
   "cell_type": "code",
   "execution_count": 26,
   "metadata": {},
   "outputs": [
    {
     "name": "stdout",
     "output_type": "stream",
     "text": [
      "6\n"
     ]
    }
   ],
   "source": [
    "# Augmented Assignment\n",
    "\n",
    "x = 5\n",
    "x += 1 # in other words x = x + 1\n",
    "print(x)"
   ]
  },
  {
   "cell_type": "code",
   "execution_count": 47,
   "metadata": {},
   "outputs": [
    {
     "name": "stdout",
     "output_type": "stream",
     "text": [
      "10\n",
      "100\n",
      "1000\n"
     ]
    }
   ],
   "source": [
    "class Test():\n",
    "    \n",
    "    def __init__(self):\n",
    "        self.a = 10\n",
    "        self.b = 100\n",
    "\n",
    "a = Test()\n",
    "a.c = 1000\n",
    "\n",
    "print(a.a)\n",
    "print(a.b)\n",
    "print(a.c)"
   ]
  },
  {
   "cell_type": "code",
   "execution_count": 6,
   "metadata": {},
   "outputs": [
    {
     "name": "stdout",
     "output_type": "stream",
     "text": [
      "0\n",
      "value-test\n",
      "1\n",
      "value-modified\n",
      "2\n",
      "value-modified\n",
      "3\n",
      "value-modified-1\n"
     ]
    }
   ],
   "source": [
    "# Controlling Attribute Access: https://rszalski.github.io/magicmethods/#access\n",
    "\n",
    "class AccessCounter(object):\n",
    "    '''A class that contains a value and implements an access counter.\n",
    "    The counter increments each time the value is changed.'''\n",
    "\n",
    "    def __init__(self, val):\n",
    "        super(AccessCounter, self).__setattr__('counter', 0)\n",
    "        super(AccessCounter, self).__setattr__('value', val)\n",
    "\n",
    "    def __setattr__(self, name, value):\n",
    "        if name == 'value':\n",
    "            super(AccessCounter, self).__setattr__('counter', self.counter + 1)\n",
    "        # Make this unconditional.\n",
    "        # If you want to prevent other attributes to be set, raise AttributeError(name)\n",
    "        super(AccessCounter, self).__setattr__(name, value)\n",
    "\n",
    "    def __delattr__(self, name):\n",
    "        if name == 'value':\n",
    "            super(AccessCounter, self).__setattr__('counter', self.counter + 1)\n",
    "        super(AccessCounter, self).__delattr__(name)\n",
    "        \n",
    "test = AccessCounter(\"value-test\")\n",
    "print(test.counter)\n",
    "print(test.value)\n",
    "test.value = \"value-modified\"\n",
    "print(test.counter)\n",
    "print(test.value)\n",
    "test.value = \"value-modified\"\n",
    "print(test.counter)\n",
    "print(test.value)\n",
    "test.value = \"value-modified-1\"\n",
    "print(test.counter)\n",
    "print(test.value)"
   ]
  },
  {
   "cell_type": "code",
   "execution_count": 18,
   "metadata": {},
   "outputs": [
    {
     "name": "stdout",
     "output_type": "stream",
     "text": [
      "['test', 1, 3, 'other']\n",
      "4\n",
      "3\n",
      "3\n",
      "['test', 1, 3, 10]\n"
     ]
    }
   ],
   "source": [
    "# Making Custom Sequences: https://rszalski.github.io/magicmethods/#sequence\n",
    "\n",
    "class FunctionalList:\n",
    "    '''A class wrapping a list with some extra functional magic, like head,\n",
    "    tail, init, last, drop, and take.'''\n",
    "\n",
    "    def __init__(self, values=None):\n",
    "        if values is None:\n",
    "            self.values = []\n",
    "        else:\n",
    "            self.values = values\n",
    "\n",
    "    def __len__(self):\n",
    "        return len(self.values)\n",
    "\n",
    "    def __getitem__(self, key):\n",
    "        # if key is of invalid type or value, the list values will raise the error\n",
    "        return self.values[key]\n",
    "\n",
    "    def __setitem__(self, key, value):\n",
    "        self.values[key] = value\n",
    "\n",
    "    def __delitem__(self, key):\n",
    "        del self.values[key]\n",
    "\n",
    "    def __iter__(self):\n",
    "        return iter(self.values)\n",
    "\n",
    "    def __reversed__(self):\n",
    "        return reversed(self.values)\n",
    "\n",
    "    def append(self, value):\n",
    "        self.values.append(value)\n",
    "    def head(self):\n",
    "        # get the first element\n",
    "        return self.values[0]\n",
    "    def tail(self):\n",
    "        # get all elements after the first\n",
    "        return self.values[1:]\n",
    "    def init(self):\n",
    "        # get elements up to the last\n",
    "        return self.values[:-1]\n",
    "    def last(self):\n",
    "        # get last element\n",
    "        return self.values[-1]\n",
    "    def drop(self, n):\n",
    "        # get all elements except first n\n",
    "        return self.values[n:]\n",
    "    def take(self, n):\n",
    "        # get first n elements\n",
    "        return self.values[:n]\n",
    "    \n",
    "func_list = FunctionalList([\"test\", 1, 3, \"other\"])\n",
    "print(func_list.values)\n",
    "print(len(func_list)) # Calling to __len__\n",
    "print(func_list.__getitem__(2)) # Calling to __getitem__ \n",
    "print(func_list[2]) # Calling to __getitem__\n",
    "func_list[3] = 10 # Calling to __setitem__\n",
    "print(func_list.values)\n",
    "# func_list[4] = \"other\" # Calling to __setitem__ -> out of index error. Only existent items can be replaced with __setitem__ method\n"
   ]
  },
  {
   "cell_type": "code",
   "execution_count": 12,
   "metadata": {},
   "outputs": [
    {
     "name": "stdout",
     "output_type": "stream",
     "text": [
      "X Position 10, Y Position 10, Size 100\n",
      "X Position 20, Y Position 20, Size 100\n"
     ]
    }
   ],
   "source": [
    "# Callable Objects: https://rszalski.github.io/magicmethods/#callable\n",
    "\n",
    "class Entity:\n",
    "    '''Class to represent an entity. Callable to update the entity's position.'''\n",
    "\n",
    "    def __init__(self, size, x, y):\n",
    "        self.x, self.y = x, y\n",
    "        self.size = size\n",
    "\n",
    "    def __call__(self, x, y):\n",
    "        '''Change the position of the entity.'''\n",
    "        self.x, self.y = x, y\n",
    "        \n",
    "test = Entity(100, 10, 10)\n",
    "\n",
    "print(f\"X Position {str(test.x)}, Y Position {str(test.y)}, Size {str(test.size)}\")\n",
    "\n",
    "test(20,20)\n",
    "\n",
    "print(f\"X Position {str(test.x)}, Y Position {str(test.y)}, Size {str(test.size)}\")"
   ]
  },
  {
   "cell_type": "code",
   "execution_count": 15,
   "metadata": {},
   "outputs": [
    {
     "name": "stdout",
     "output_type": "stream",
     "text": [
      "Not closable.\n"
     ]
    },
    {
     "data": {
      "text/plain": [
       "5"
      ]
     },
     "execution_count": 15,
     "metadata": {},
     "output_type": "execute_result"
    }
   ],
   "source": [
    "# Context Managers: https://rszalski.github.io/magicmethods/#context\n",
    "class Closer:\n",
    "    '''A context manager to automatically close an object with a close method\n",
    "    in a with statement.'''\n",
    "\n",
    "    def __init__(self, obj):\n",
    "        self.obj = obj\n",
    "\n",
    "    def __enter__(self):\n",
    "        return self.obj # bound to target\n",
    "\n",
    "    def __exit__(self, exception_type, exception_val, trace):\n",
    "        try:\n",
    "           self.obj.close()\n",
    "        except AttributeError: # obj isn't closable\n",
    "           print(\"Not closable.\")\n",
    "           return True # exception handled successfully\n",
    "        \n",
    "with Closer(int(5)) as i:\n",
    "    i += 1\n",
    "    \n",
    "a = Closer(int(5))\n",
    "a.__enter__()"
   ]
  },
  {
   "cell_type": "code",
   "execution_count": 1,
   "metadata": {},
   "outputs": [
    {
     "name": "stdout",
     "output_type": "stream",
     "text": [
      "15.0\n",
      "49.212\n"
     ]
    }
   ],
   "source": [
    "# Descriptors: https://rszalski.github.io/magicmethods/#descriptor\n",
    "\n",
    "class Meter(object):\n",
    "    '''Descriptor for a meter.'''\n",
    "\n",
    "    def __init__(self, value=0.0):\n",
    "        self.value = float(value)\n",
    "    def __get__(self, instance, owner):\n",
    "        return self.value\n",
    "    def __set__(self, instance, value):\n",
    "        self.value = float(value)\n",
    "\n",
    "class Foot(object):\n",
    "    '''Descriptor for a foot.'''\n",
    "\n",
    "    def __get__(self, instance, owner):\n",
    "        return instance.meter * 3.2808\n",
    "    def __set__(self, instance, value):\n",
    "        instance.meter = float(value) / 3.2808\n",
    "\n",
    "class Distance(object):\n",
    "    '''Class to represent distance holding two descriptors for feet and\n",
    "    meters.'''\n",
    "    meter = Meter()\n",
    "    foot = Foot()\n",
    "\n",
    "a = Distance()\n",
    "a.meter = 15\n",
    "m = a.meter\n",
    "f = a.foot\n",
    "print(m)\n",
    "print(f)   "
   ]
  },
  {
   "cell_type": "code",
   "execution_count": 2,
   "metadata": {},
   "outputs": [
    {
     "name": "stdout",
     "output_type": "stream",
     "text": [
      "accessing the attribute to get the value\n",
      "42\n",
      "accessing the attribute to get the value\n",
      "42\n",
      "accessing the attribute to get the value\n",
      "42\n"
     ]
    }
   ],
   "source": [
    "# Another descriptor example\n",
    "\n",
    "class Verbose_attribute():\n",
    "    def __get__(self, obj, type=None) -> object:\n",
    "        print(\"accessing the attribute to get the value\")\n",
    "        return 42\n",
    "    def __set__(self, obj, value) -> None:\n",
    "        print(\"accessing the attribute to set the value\")\n",
    "        raise AttributeError(\"Cannot change the value\")\n",
    "\n",
    "class Foo():\n",
    "    attribute1 = Verbose_attribute()\n",
    "\n",
    "my_foo_object = Foo()\n",
    "x = my_foo_object.attribute1\n",
    "print(x)\n",
    "\n",
    "# Same result than before but this time using python properties\n",
    "class Fooo():\n",
    "    @property\n",
    "    def attribute1(self) -> object:\n",
    "        print(\"accessing the attribute to get the value\")\n",
    "        return 42\n",
    "\n",
    "    @attribute1.setter\n",
    "    def attribute1(self, value) -> None:\n",
    "        print(\"accessing the attribute to set the value\")\n",
    "        raise AttributeError(\"Cannot change the value\")\n",
    "\n",
    "my_fooo_object = Fooo()\n",
    "x = my_fooo_object.attribute1\n",
    "print(x)\n",
    "\n",
    "# property_function.py\n",
    "class Foo():\n",
    "    def getter(self) -> object:\n",
    "        print(\"accessing the attribute to get the value\")\n",
    "        return 42\n",
    "\n",
    "    def setter(self, value) -> None:\n",
    "        print(\"accessing the attribute to set the value\")\n",
    "        raise AttributeError(\"Cannot change the value\")\n",
    "\n",
    "    attribute1 = property(getter, setter)\n",
    "\n",
    "my_foo_object = Foo()\n",
    "x = my_foo_object.attribute1\n",
    "print(x)"
   ]
  },
  {
   "cell_type": "code",
   "execution_count": null,
   "metadata": {},
   "outputs": [],
   "source": []
  }
 ],
 "metadata": {
  "kernelspec": {
   "display_name": "Python 3",
   "language": "python",
   "name": "python3"
  },
  "language_info": {
   "codemirror_mode": {
    "name": "ipython",
    "version": 3
   },
   "file_extension": ".py",
   "mimetype": "text/x-python",
   "name": "python",
   "nbconvert_exporter": "python",
   "pygments_lexer": "ipython3",
   "version": "3.8.2"
  }
 },
 "nbformat": 4,
 "nbformat_minor": 4
}
