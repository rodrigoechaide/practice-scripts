{
 "cells": [
  {
   "cell_type": "code",
   "execution_count": 17,
   "metadata": {},
   "outputs": [
    {
     "name": "stdout",
     "output_type": "stream",
     "text": [
      "Read 10267 from https://www.jython.org\n",
      "Read 273 from http://olympus.realpython.org/dice\n",
      "Read 10267 from https://www.jython.org\n",
      "Read 273 from http://olympus.realpython.org/dice\n",
      "Read 10267 from https://www.jython.org\n",
      "Read 273 from http://olympus.realpython.org/dice\n",
      "Read 10267 from https://www.jython.org\n",
      "Read 273 from http://olympus.realpython.org/dice\n",
      "Read 10267 from https://www.jython.org\n",
      "Read 273 from http://olympus.realpython.org/dice\n",
      "Read 10267 from https://www.jython.org\n",
      "Read 273 from http://olympus.realpython.org/dice\n",
      "Read 10267 from https://www.jython.org\n",
      "Read 273 from http://olympus.realpython.org/dice\n",
      "Read 10267 from https://www.jython.org\n",
      "Read 273 from http://olympus.realpython.org/dice\n",
      "Read 10267 from https://www.jython.org\n",
      "Read 273 from http://olympus.realpython.org/dice\n",
      "Read 10267 from https://www.jython.org\n",
      "Read 273 from http://olympus.realpython.org/dice\n",
      "Downloaded 20 in 2.351557970046997 seconds\n"
     ]
    }
   ],
   "source": [
    "# https://realpython.com/python-concurrency/\n",
    "# https://realpython.com/intro-to-python-threading/\n",
    "\n",
    "# Requests Library Documentation: https://2.python-requests.org/en/master/\n",
    "# Session Object Documentation: https://2.python-requests.org/en/master/user/advanced/#id1\n",
    "\n",
    "# Resources:\n",
    "# https://github.com/realpython/materials/tree/master/concurrency-overview\n",
    "# https://github.com/realpython/materials/tree/master/intro-to-threading\n",
    "\n",
    "import requests\n",
    "import time\n",
    "\n",
    "\n",
    "def download_site(url, session):\n",
    "    with session.get(url) as response:\n",
    "        print(f\"Read {len(response.content)} from {url}\")\n",
    "\n",
    "\n",
    "def download_all_sites(sites):\n",
    "    with requests.Session() as session:\n",
    "        for url in sites:\n",
    "            download_site(url, session)\n",
    "\n",
    "\n",
    "if __name__ == \"__main__\":\n",
    "    sites = [\n",
    "        \"https://www.jython.org\",\n",
    "        \"http://olympus.realpython.org/dice\",\n",
    "    ] * 10\n",
    "    start_time = time.time()\n",
    "    download_all_sites(sites)\n",
    "    duration = time.time() - start_time\n",
    "    print(f\"Downloaded {len(sites)} in {duration} seconds\")"
   ]
  },
  {
   "cell_type": "code",
   "execution_count": 7,
   "metadata": {},
   "outputs": [
    {
     "name": "stdout",
     "output_type": "stream",
     "text": [
      "['https://www.jython.org', 'http://olympus.realpython.org/dice', 'https://www.jython.org', 'http://olympus.realpython.org/dice', 'https://www.jython.org', 'http://olympus.realpython.org/dice', 'https://www.jython.org', 'http://olympus.realpython.org/dice']\n"
     ]
    }
   ],
   "source": [
    "    sites = [\n",
    "        \"https://www.jython.org\",\n",
    "        \"http://olympus.realpython.org/dice\",\n",
    "    ] * 4\n",
    "    \n",
    "    print(sites)"
   ]
  },
  {
   "cell_type": "code",
   "execution_count": 16,
   "metadata": {},
   "outputs": [
    {
     "name": "stdout",
     "output_type": "stream",
     "text": [
      "Read 10267 from https://www.jython.org\n",
      "Read 10267 from https://www.jython.org\n",
      "Read 10267 from https://www.jython.org\n",
      "Read 273 from http://olympus.realpython.org/dice\n",
      "Read 273 from http://olympus.realpython.org/diceRead 273 from http://olympus.realpython.org/diceRead 273 from http://olympus.realpython.org/dice\n",
      "\n",
      "Read 273 from http://olympus.realpython.org/dice\n",
      "\n",
      "Read 10267 from https://www.jython.org\n",
      "Read 10267 from https://www.jython.org\n",
      "Read 10267 from https://www.jython.org\n",
      "Read 10267 from https://www.jython.orgRead 10267 from https://www.jython.org\n",
      "\n",
      "Read 273 from http://olympus.realpython.org/dice\n",
      "Read 273 from http://olympus.realpython.org/diceRead 273 from http://olympus.realpython.org/dice\n",
      "\n",
      "Read 10267 from https://www.jython.org\n",
      "Read 273 from http://olympus.realpython.org/dice\n",
      "Read 10267 from https://www.jython.org\n",
      "Read 273 from http://olympus.realpython.org/dice\n",
      "Downloaded 20 in 0.7502586841583252 seconds\n"
     ]
    }
   ],
   "source": [
    "# Threading version\n",
    "\n",
    "import concurrent.futures\n",
    "import requests\n",
    "import threading\n",
    "import time\n",
    "\n",
    "\n",
    "thread_local = threading.local()\n",
    "\n",
    "\n",
    "def get_session():\n",
    "    if not hasattr(thread_local, \"session\"):\n",
    "        thread_local.session = requests.Session()\n",
    "    return thread_local.session\n",
    "\n",
    "\n",
    "def download_site(url):\n",
    "    session = get_session()\n",
    "    with session.get(url) as response:\n",
    "        print(f\"Read {len(response.content)} from {url}\")\n",
    "\n",
    "\n",
    "def download_all_sites(sites):\n",
    "    with concurrent.futures.ThreadPoolExecutor(max_workers=10) as executor:\n",
    "        executor.map(download_site, sites)\n",
    "\n",
    "\n",
    "if __name__ == \"__main__\":\n",
    "    sites = [\n",
    "        \"https://www.jython.org\",\n",
    "        \"http://olympus.realpython.org/dice\",\n",
    "    ] * 10\n",
    "    start_time = time.time()\n",
    "    download_all_sites(sites)\n",
    "    duration = time.time() - start_time\n",
    "    print(f\"Downloaded {len(sites)} in {duration} seconds\")"
   ]
  },
  {
   "cell_type": "code",
   "execution_count": 18,
   "metadata": {},
   "outputs": [],
   "source": [
    "# Race Condition\n",
    "# https://realpython.com/python-concurrency/\n",
    "\n",
    "# Race conditions are an entire class of subtle bugs that can and frequently do happen in multi-threaded code. \n",
    "# Race conditions happen because the programmer has not sufficiently protected data accesses to \n",
    "# prevent threads from interfering with each other. \n",
    "# You need to take extra steps when writing threaded code to ensure things are thread-safe.\n",
    "# What’s going on here is that the operating system is controlling when your thread runs and when it gets \n",
    "# swapped out to let another thread run. This thread swapping can occur at any point, \n",
    "# even while doing sub-steps of a Python statement. \n",
    "# As a quick example, look at this function:\n",
    "\n",
    "import concurrent.futures\n",
    "\n",
    "\n",
    "counter = 0\n",
    "\n",
    "\n",
    "def increment_counter(fake_value):\n",
    "    global counter\n",
    "    for _ in range(100):\n",
    "        counter += 1\n",
    "\n",
    "\n",
    "if __name__ == \"__main__\":\n",
    "    fake_data = [x for x in range(5000)]\n",
    "    counter = 0\n",
    "    with concurrent.futures.ThreadPoolExecutor(max_workers=5000) as executor:\n",
    "        executor.map(increment_counter, fake_data)\n",
    "        \n",
    "# This code is quite similar to the structure you used in the threading example above. \n",
    "# The difference is that each of the threads is accessing the same global variable counter and incrementing it. \n",
    "# Counter is not protected in any way, so it is not thread-safe.\n",
    "\n",
    "# In order to increment counter, each of the threads needs to read the current value, add one to it, \n",
    "# and the save that value back to the variable. That happens in this line: counter += 1.\n",
    "\n",
    "# Because the operating system knows nothing about your code and can swap threads at any point in the execution, \n",
    "# it’s possible for this swap to happen after a thread has read the value but before it has had the chance to write it back. \n",
    "# If the new code that is running modifies counter as well, then the first thread has a stale copy of the data and trouble \n",
    "# will ensue.\n",
    "\n",
    "# As you can imagine, hitting this exact situation is fairly rare. \n",
    "# You can run this program thousands of times and never see the problem. \n",
    "# That’s what makes this type of problem quite difficult to debug as it can be quite hard to reproduce and \n",
    "# can cause random-looking errors to show up.\n",
    "\n",
    "# As a further example, I want to remind you that requests.Session() is not thread-safe. \n",
    "# This means that there are places where the type of interaction described above could happen if multiple threads \n",
    "# use the same Session. I bring this up not to cast aspersions on requests but rather to point \n",
    "# out that these are difficult problems to resolve."
   ]
  },
  {
   "cell_type": "code",
   "execution_count": 20,
   "metadata": {},
   "outputs": [
    {
     "name": "stdout",
     "output_type": "stream",
     "text": [
      "[0, 1, 2, 3, 4, 5, 6, 7, 8, 9, 10, 11, 12, 13, 14, 15, 16, 17, 18, 19]\n"
     ]
    }
   ],
   "source": [
    "fake_data = [x for x in range(20)]\n",
    "\n",
    "print(fake_data)"
   ]
  },
  {
   "cell_type": "code",
   "execution_count": 7,
   "metadata": {},
   "outputs": [
    {
     "name": "stdout",
     "output_type": "stream",
     "text": [
      "Read 3549 from https://www.jython.org\n",
      "Read 3549 from https://www.jython.org\n",
      "Read 3549 from https://www.jython.org\n",
      "Read 3549 from https://www.jython.org\n",
      "Read 3549 from https://www.jython.org\n",
      "Read 3549 from https://www.jython.org\n",
      "Read 3549 from https://www.jython.org\n",
      "Read 3549 from https://www.jython.org\n",
      "Read 3549 from https://www.jython.org\n",
      "Read 3549 from https://www.jython.org\n",
      "Read 273 from http://olympus.realpython.org/dice\n",
      "Read 273 from http://olympus.realpython.org/dice\n",
      "Read 273 from http://olympus.realpython.org/dice\n",
      "Read 273 from http://olympus.realpython.org/dice\n",
      "Read 273 from http://olympus.realpython.org/dice\n",
      "Read 273 from http://olympus.realpython.org/dice\n",
      "Read 273 from http://olympus.realpython.org/dice\n",
      "Read 273 from http://olympus.realpython.org/dice\n",
      "Read 273 from http://olympus.realpython.org/dice\n",
      "Read 273 from http://olympus.realpython.org/dice\n",
      "Downloaded 20 sites in 0.8111109733581543 seconds\n"
     ]
    }
   ],
   "source": [
    "# asyncio\n",
    "# https://realpython.com/python-concurrency/\n",
    "# https://stackoverflow.com/questions/49005651/how-does-asyncio-actually-work/51116910#51116910\n",
    "\n",
    "import asyncio\n",
    "import time\n",
    "import aiohttp\n",
    "\n",
    "# Fix to use an event_loop inside another event_loop as jupyter already uses an event_loop\n",
    "import nest_asyncio\n",
    "nest_asyncio.apply()\n",
    "\n",
    "\n",
    "async def download_site(session, url):\n",
    "    async with session.get(url) as response:\n",
    "        print(\"Read {0} from {1}\".format(response.content_length, url))\n",
    "\n",
    "\n",
    "async def download_all_sites(sites):\n",
    "    async with aiohttp.ClientSession() as session:\n",
    "        tasks = []\n",
    "        for url in sites:\n",
    "            task = asyncio.ensure_future(download_site(session, url))\n",
    "            tasks.append(task)\n",
    "        await asyncio.gather(*tasks, return_exceptions=True)\n",
    "\n",
    "\n",
    "if __name__ == \"__main__\":\n",
    "    sites = [\n",
    "        \"https://www.jython.org\",\n",
    "        \"http://olympus.realpython.org/dice\",\n",
    "    ] * 10\n",
    "    start_time = time.time()\n",
    "    asyncio.run(download_all_sites(sites))\n",
    "    # asyncio.get_event_loop().run_until_complete(download_all_sites(sites))\n",
    "    duration = time.time() - start_time\n",
    "    print(f\"Downloaded {len(sites)} sites in {duration} seconds\")"
   ]
  },
  {
   "cell_type": "code",
   "execution_count": 4,
   "metadata": {},
   "outputs": [
    {
     "name": "stdout",
     "output_type": "stream",
     "text": [
      "Hola\n"
     ]
    }
   ],
   "source": [
    "if __name__ == \"__main__\":\n",
    "    print(\"Hola\")"
   ]
  },
  {
   "cell_type": "code",
   "execution_count": null,
   "metadata": {},
   "outputs": [],
   "source": []
  }
 ],
 "metadata": {
  "kernelspec": {
   "display_name": "Python 3",
   "language": "python",
   "name": "python3"
  },
  "language_info": {
   "codemirror_mode": {
    "name": "ipython",
    "version": 3
   },
   "file_extension": ".py",
   "mimetype": "text/x-python",
   "name": "python",
   "nbconvert_exporter": "python",
   "pygments_lexer": "ipython3",
   "version": "3.8.2"
  }
 },
 "nbformat": 4,
 "nbformat_minor": 4
}
