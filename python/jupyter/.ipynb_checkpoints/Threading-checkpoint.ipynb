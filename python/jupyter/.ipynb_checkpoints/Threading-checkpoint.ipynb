{
 "cells": [
  {
   "cell_type": "code",
   "execution_count": 17,
   "metadata": {},
   "outputs": [
    {
     "name": "stdout",
     "output_type": "stream",
     "text": [
      "Read 10267 from https://www.jython.org\n",
      "Read 273 from http://olympus.realpython.org/dice\n",
      "Read 10267 from https://www.jython.org\n",
      "Read 273 from http://olympus.realpython.org/dice\n",
      "Read 10267 from https://www.jython.org\n",
      "Read 273 from http://olympus.realpython.org/dice\n",
      "Read 10267 from https://www.jython.org\n",
      "Read 273 from http://olympus.realpython.org/dice\n",
      "Read 10267 from https://www.jython.org\n",
      "Read 273 from http://olympus.realpython.org/dice\n",
      "Read 10267 from https://www.jython.org\n",
      "Read 273 from http://olympus.realpython.org/dice\n",
      "Read 10267 from https://www.jython.org\n",
      "Read 273 from http://olympus.realpython.org/dice\n",
      "Read 10267 from https://www.jython.org\n",
      "Read 273 from http://olympus.realpython.org/dice\n",
      "Read 10267 from https://www.jython.org\n",
      "Read 273 from http://olympus.realpython.org/dice\n",
      "Read 10267 from https://www.jython.org\n",
      "Read 273 from http://olympus.realpython.org/dice\n",
      "Downloaded 20 in 2.351557970046997 seconds\n"
     ]
    }
   ],
   "source": [
    "# https://realpython.com/python-concurrency/\n",
    "# https://realpython.com/intro-to-python-threading/\n",
    "\n",
    "# Requests Library Documentation: https://2.python-requests.org/en/master/\n",
    "# Session Object Documentation: https://2.python-requests.org/en/master/user/advanced/#id1\n",
    "\n",
    "import requests\n",
    "import time\n",
    "\n",
    "\n",
    "def download_site(url, session):\n",
    "    with session.get(url) as response:\n",
    "        print(f\"Read {len(response.content)} from {url}\")\n",
    "\n",
    "\n",
    "def download_all_sites(sites):\n",
    "    with requests.Session() as session:\n",
    "        for url in sites:\n",
    "            download_site(url, session)\n",
    "\n",
    "\n",
    "if __name__ == \"__main__\":\n",
    "    sites = [\n",
    "        \"https://www.jython.org\",\n",
    "        \"http://olympus.realpython.org/dice\",\n",
    "    ] * 10\n",
    "    start_time = time.time()\n",
    "    download_all_sites(sites)\n",
    "    duration = time.time() - start_time\n",
    "    print(f\"Downloaded {len(sites)} in {duration} seconds\")"
   ]
  },
  {
   "cell_type": "code",
   "execution_count": 7,
   "metadata": {},
   "outputs": [
    {
     "name": "stdout",
     "output_type": "stream",
     "text": [
      "['https://www.jython.org', 'http://olympus.realpython.org/dice', 'https://www.jython.org', 'http://olympus.realpython.org/dice', 'https://www.jython.org', 'http://olympus.realpython.org/dice', 'https://www.jython.org', 'http://olympus.realpython.org/dice']\n"
     ]
    }
   ],
   "source": [
    "    sites = [\n",
    "        \"https://www.jython.org\",\n",
    "        \"http://olympus.realpython.org/dice\",\n",
    "    ] * 4\n",
    "    \n",
    "    print(sites)"
   ]
  },
  {
   "cell_type": "code",
   "execution_count": 16,
   "metadata": {},
   "outputs": [
    {
     "name": "stdout",
     "output_type": "stream",
     "text": [
      "Read 10267 from https://www.jython.org\n",
      "Read 10267 from https://www.jython.org\n",
      "Read 10267 from https://www.jython.org\n",
      "Read 273 from http://olympus.realpython.org/dice\n",
      "Read 273 from http://olympus.realpython.org/diceRead 273 from http://olympus.realpython.org/diceRead 273 from http://olympus.realpython.org/dice\n",
      "\n",
      "Read 273 from http://olympus.realpython.org/dice\n",
      "\n",
      "Read 10267 from https://www.jython.org\n",
      "Read 10267 from https://www.jython.org\n",
      "Read 10267 from https://www.jython.org\n",
      "Read 10267 from https://www.jython.orgRead 10267 from https://www.jython.org\n",
      "\n",
      "Read 273 from http://olympus.realpython.org/dice\n",
      "Read 273 from http://olympus.realpython.org/diceRead 273 from http://olympus.realpython.org/dice\n",
      "\n",
      "Read 10267 from https://www.jython.org\n",
      "Read 273 from http://olympus.realpython.org/dice\n",
      "Read 10267 from https://www.jython.org\n",
      "Read 273 from http://olympus.realpython.org/dice\n",
      "Downloaded 20 in 0.7502586841583252 seconds\n"
     ]
    }
   ],
   "source": [
    "# Threading version\n",
    "\n",
    "import concurrent.futures\n",
    "import requests\n",
    "import threading\n",
    "import time\n",
    "\n",
    "\n",
    "thread_local = threading.local()\n",
    "\n",
    "\n",
    "def get_session():\n",
    "    if not hasattr(thread_local, \"session\"):\n",
    "        thread_local.session = requests.Session()\n",
    "    return thread_local.session\n",
    "\n",
    "\n",
    "def download_site(url):\n",
    "    session = get_session()\n",
    "    with session.get(url) as response:\n",
    "        print(f\"Read {len(response.content)} from {url}\")\n",
    "\n",
    "\n",
    "def download_all_sites(sites):\n",
    "    with concurrent.futures.ThreadPoolExecutor(max_workers=10) as executor:\n",
    "        executor.map(download_site, sites)\n",
    "\n",
    "\n",
    "if __name__ == \"__main__\":\n",
    "    sites = [\n",
    "        \"https://www.jython.org\",\n",
    "        \"http://olympus.realpython.org/dice\",\n",
    "    ] * 10\n",
    "    start_time = time.time()\n",
    "    download_all_sites(sites)\n",
    "    duration = time.time() - start_time\n",
    "    print(f\"Downloaded {len(sites)} in {duration} seconds\")"
   ]
  },
  {
   "cell_type": "code",
   "execution_count": 18,
   "metadata": {},
   "outputs": [],
   "source": [
    "# Race Condition\n",
    "# https://realpython.com/python-concurrency/\n",
    "\n",
    "import concurrent.futures\n",
    "\n",
    "\n",
    "counter = 0\n",
    "\n",
    "\n",
    "def increment_counter(fake_value):\n",
    "    global counter\n",
    "    for _ in range(100):\n",
    "        counter += 1\n",
    "\n",
    "\n",
    "if __name__ == \"__main__\":\n",
    "    fake_data = [x for x in range(5000)]\n",
    "    counter = 0\n",
    "    with concurrent.futures.ThreadPoolExecutor(max_workers=5000) as executor:\n",
    "        executor.map(increment_counter, fake_data)"
   ]
  },
  {
   "cell_type": "code",
   "execution_count": 20,
   "metadata": {},
   "outputs": [
    {
     "name": "stdout",
     "output_type": "stream",
     "text": [
      "[0, 1, 2, 3, 4, 5, 6, 7, 8, 9, 10, 11, 12, 13, 14, 15, 16, 17, 18, 19]\n"
     ]
    }
   ],
   "source": [
    "fake_data = [x for x in range(20)]\n",
    "\n",
    "print(fake_data)"
   ]
  },
  {
   "cell_type": "code",
   "execution_count": null,
   "metadata": {},
   "outputs": [],
   "source": []
  }
 ],
 "metadata": {
  "kernelspec": {
   "display_name": "Python 3",
   "language": "python",
   "name": "python3"
  },
  "language_info": {
   "codemirror_mode": {
    "name": "ipython",
    "version": 3
   },
   "file_extension": ".py",
   "mimetype": "text/x-python",
   "name": "python",
   "nbconvert_exporter": "python",
   "pygments_lexer": "ipython3",
   "version": "3.8.2"
  }
 },
 "nbformat": 4,
 "nbformat_minor": 4
}
