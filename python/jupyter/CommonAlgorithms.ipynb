{
 "cells": [
  {
   "cell_type": "markdown",
   "metadata": {},
   "source": [
    "# [10 Common Algorithms](https://towardsdatascience.com/10-algorithms-to-solve-before-your-python-coding-interview-feb74fb9bc27)\n",
    "\n",
    "In this article I present and share the solution for a number of basic algorithms that recurrently appear in FAANG interviews."
   ]
  },
  {
   "cell_type": "code",
   "execution_count": 1,
   "metadata": {
    "tags": []
   },
   "outputs": [
    {
     "name": "stdout",
     "output_type": "stream",
     "text": [
      "-132\n",
      "543\n"
     ]
    }
   ],
   "source": [
    "# Reverse Integer\n",
    "# Given an integer, return the integer with reversed digits.\n",
    "# Note: The integer could be either positive or negative.\n",
    "\n",
    "def solution(x):\n",
    "    string = str(x)\n",
    "    \n",
    "    if string[0] == '-':\n",
    "        return int('-'+string[:0:-1])\n",
    "    else:\n",
    "        return int(string[::-1])\n",
    "    \n",
    "print(solution(-231))\n",
    "print(solution(345))"
   ]
  },
  {
   "cell_type": "code",
   "execution_count": 14,
   "metadata": {
    "tags": []
   },
   "outputs": [
    {
     "name": "stdout",
     "output_type": "stream",
     "text": [
      "4.2\n",
      "4.08\n"
     ]
    }
   ],
   "source": [
    "# Average Words Length\n",
    "# For a given sentence, return the average word length.\n",
    "# Note: Remember to remove punctuation first.\n",
    "\n",
    "sentence1 = \"Hi all, my name is Tom...I am originally from Australia.\"\n",
    "sentence2 = \"I need to work very hard to learn more about algorithms in Python!\"\n",
    "\n",
    "def solution(sentence):\n",
    "    for p in \"!?',;.\":\n",
    "        sentence = sentence.replace(p, '')\n",
    "    words = sentence.split()\n",
    "    return round(sum(len(word) for word in words)/len(words),2)\n",
    "    \n",
    "print(solution(sentence1))\n",
    "print(solution(sentence2))"
   ]
  },
  {
   "cell_type": "code",
   "execution_count": 15,
   "metadata": {
    "tags": []
   },
   "outputs": [
    {
     "name": "stdout",
     "output_type": "stream",
     "text": [
      "2200\n",
      "2200\n"
     ]
    }
   ],
   "source": [
    "# Add Strings\n",
    "# Given two non-negative integers num1 and num2 represented as string, return the sum of num1 and num2.\n",
    "# You must not use any built-in BigInteger library or convert the inputs to integer directly.\n",
    "\n",
    "#Notes:\n",
    "#Both num1 and num2 contains only digits 0-9.\n",
    "#Both num1 and num2 does not contain any leading zero.\n",
    "\n",
    "num1 = '364'\n",
    "num2 = '1836'\n",
    "\n",
    "# Approach 1: \n",
    "def solution(num1,num2):\n",
    "    eval(num1) + eval(num2)\n",
    "    return str(eval(num1) + eval(num2))\n",
    "            \n",
    "print(solution(num1,num2))\n",
    "\n",
    "#Approach2 \n",
    "#Given a string of length one, the ord() function returns an integer representing the Unicode code point of the character \n",
    "#when the argument is a unicode object, or the value of the byte when the argument is an 8-bit string.\n",
    "\n",
    "def solution(num1, num2):\n",
    "    n1, n2 = 0, 0\n",
    "    m1, m2 = 10**(len(num1)-1), 10**(len(num2)-1)\n",
    "\n",
    "    for i in num1:\n",
    "        n1 += (ord(i) - ord(\"0\")) * m1 \n",
    "        m1 = m1//10        \n",
    "\n",
    "    for i in num2:\n",
    "        n2 += (ord(i) - ord(\"0\")) * m2\n",
    "        m2 = m2//10\n",
    "\n",
    "    return str(n1 + n2)\n",
    "print(solution(num1, num2))"
   ]
  },
  {
   "cell_type": "code",
   "execution_count": 16,
   "metadata": {
    "tags": []
   },
   "outputs": [
    {
     "name": "stdout",
     "output_type": "stream",
     "text": [
      "1\n",
      "2\n",
      "1\n",
      "###\n",
      "1\n",
      "2\n",
      "1\n"
     ]
    }
   ],
   "source": [
    "# First Unique Character\n",
    "# Given a string, find the first non-repeating character in it and return its index. \n",
    "# If it doesn't exist, return -1. # Note: all the input strings are already lowercase.\n",
    "\n",
    "#Approach 1\n",
    "def solution(s):\n",
    "    frequency = {}\n",
    "    for i in s:\n",
    "        if i not in frequency:\n",
    "            frequency[i] = 1\n",
    "        else:\n",
    "            frequency[i] +=1\n",
    "    for i in range(len(s)):\n",
    "        if frequency[s[i]] == 1:\n",
    "            return i\n",
    "    return -1\n",
    "\n",
    "print(solution('alphabet'))\n",
    "print(solution('barbados'))\n",
    "print(solution('crunchy'))\n",
    "\n",
    "print('###')\n",
    "\n",
    "#Approach 2\n",
    "import collections\n",
    "\n",
    "def solution(s):\n",
    "    # build hash map : character and how often it appears\n",
    "    count = collections.Counter(s) # <-- gives back a dictionary with words occurrence count \n",
    "                                         #Counter({'l': 1, 'e': 3, 't': 1, 'c': 1, 'o': 1, 'd': 1})\n",
    "    # find the index\n",
    "    for idx, ch in enumerate(s):\n",
    "        if count[ch] == 1:\n",
    "            return idx\n",
    "    return -1\n",
    "\n",
    "print(solution('alphabet'))\n",
    "print(solution('barbados'))\n",
    "print(solution('crunchy'))"
   ]
  },
  {
   "cell_type": "code",
   "execution_count": 1,
   "metadata": {
    "tags": []
   },
   "outputs": [
    {
     "data": {
      "text/plain": [
       "True"
      ]
     },
     "execution_count": 1,
     "metadata": {},
     "output_type": "execute_result"
    }
   ],
   "source": [
    "# Valid Palindrome\n",
    "# Given a non-empty string s, you may delete at most one character. Judge whether you can make it a palindrome.\n",
    "# The string will only contain lowercase characters a-z.\n",
    "\n",
    "s = 'radkar'\n",
    "def solution(s):\n",
    "    for i in range(len(s)):\n",
    "        t = s[:i] + s[i+1:]\n",
    "        if t == t[::-1]: return True\n",
    "\n",
    "    return s == s[::-1]\n",
    "  \n",
    "solution(s)"
   ]
  },
  {
   "cell_type": "code",
   "execution_count": null,
   "metadata": {},
   "outputs": [],
   "source": []
  }
 ],
 "metadata": {
  "kernelspec": {
   "display_name": "Python 3.8.2 32-bit",
   "language": "python",
   "name": "python38232bitf1605097b0574eb6b622c7a1df5e9054"
  },
  "language_info": {
   "codemirror_mode": {
    "name": "ipython",
    "version": 3
   },
   "file_extension": ".py",
   "mimetype": "text/x-python",
   "name": "python",
   "nbconvert_exporter": "python",
   "pygments_lexer": "ipython3",
   "version": "3.8.2"
  }
 },
 "nbformat": 4,
 "nbformat_minor": 2
}
